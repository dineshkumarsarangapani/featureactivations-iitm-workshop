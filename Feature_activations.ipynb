{
  "nbformat": 4,
  "nbformat_minor": 0,
  "metadata": {
    "colab": {
      "provenance": [],
      "include_colab_link": true
    },
    "kernelspec": {
      "name": "python3",
      "display_name": "Python 3"
    },
    "language_info": {
      "name": "python"
    }
  },
  "cells": [
    {
      "cell_type": "markdown",
      "metadata": {
        "id": "view-in-github",
        "colab_type": "text"
      },
      "source": [
        "<a href=\"https://colab.research.google.com/github/dineshkumarsarangapani/featureactivations-iitm-workshop/blob/main/Feature_activations.ipynb\" target=\"_parent\"><img src=\"https://colab.research.google.com/assets/colab-badge.svg\" alt=\"Open In Colab\"/></a>"
      ]
    },
    {
      "cell_type": "markdown",
      "source": [
        "# This Notebook file contains the code that demonstrates the impact applying transformation on individual features has on a Neural network - specifically it's impact on Activation functions"
      ],
      "metadata": {
        "id": "JOnAehoh8_6W"
      }
    },
    {
      "cell_type": "markdown",
      "source": [
        "## Import the necessary packages that will be used in this exercise"
      ],
      "metadata": {
        "id": "K1Q0yAeX9WY-"
      }
    },
    {
      "cell_type": "code",
      "execution_count": null,
      "metadata": {
        "id": "pY5h0ofnOfcw"
      },
      "outputs": [],
      "source": [
        "import numpy as np\n",
        "import pandas as pd\n",
        "import os\n",
        "import networkx as nx\n",
        "import sklearn.model_selection as sk\n",
        "from tensorflow.keras.models import Sequential\n",
        "from tensorflow.keras.layers import Dense"
      ]
    },
    {
      "cell_type": "code",
      "source": [
        "print(os.getcwd()) # Prints the current working directory\n",
        "base01 = pd.read_csv('/content/drive/MyDrive/IITM_feature_activations.csv') # The path in which your dataset (.csv file) resides\n",
        "base01.head() # Prints the top 5 rows of the dataset"
      ],
      "metadata": {
        "id": "syfbnXrK-XpJ"
      },
      "execution_count": null,
      "outputs": []
    },
    {
      "cell_type": "code",
      "source": [
        "base01['Vintage'].describe()"
      ],
      "metadata": {
        "colab": {
          "base_uri": "https://localhost:8080/",
          "height": 165
        },
        "id": "LclWvBSSPfNl",
        "outputId": "f01b7f4f-9f8c-44f8-b0af-442a590da7bc"
      },
      "execution_count": null,
      "outputs": [
        {
          "output_type": "error",
          "ename": "NameError",
          "evalue": "ignored",
          "traceback": [
            "\u001b[0;31m---------------------------------------------------------------------------\u001b[0m",
            "\u001b[0;31mNameError\u001b[0m                                 Traceback (most recent call last)",
            "\u001b[0;32m<ipython-input-1-5ec2652df748>\u001b[0m in \u001b[0;36m<cell line: 1>\u001b[0;34m()\u001b[0m\n\u001b[0;32m----> 1\u001b[0;31m \u001b[0mbase01\u001b[0m\u001b[0;34m[\u001b[0m\u001b[0;34m'Vintage'\u001b[0m\u001b[0;34m]\u001b[0m\u001b[0;34m.\u001b[0m\u001b[0mdescribe\u001b[0m\u001b[0;34m(\u001b[0m\u001b[0;34m)\u001b[0m\u001b[0;34m\u001b[0m\u001b[0;34m\u001b[0m\u001b[0m\n\u001b[0m",
            "\u001b[0;31mNameError\u001b[0m: name 'base01' is not defined"
          ]
        }
      ]
    },
    {
      "cell_type": "code",
      "source": [
        "features = ['Vintage', 'Floor', 'Area','percentage_sold'] #Storing feature names to a list\n",
        "features_df = base01[features] #Subsetting the dataset \n",
        "labels = base01['Price'] # Designating the Target Variable\n",
        "# Split the dataset into train and test sets - This step is a must to evaluate the model's performance on unseen/holdout data\n",
        "X_train, X_test, y_train, y_test =  sk.train_test_split(features_df,labels,test_size=0.33, random_state = 42)"
      ],
      "metadata": {
        "id": "FbsSbe5ZPSb2"
      },
      "execution_count": null,
      "outputs": []
    },
    {
      "cell_type": "markdown",
      "source": [
        "## Creating a Neural Network using the Tensorflow API"
      ],
      "metadata": {
        "id": "pFjh0RHtAffG"
      }
    },
    {
      "cell_type": "code",
      "source": [
        "\n",
        "\n",
        "units = 32\n",
        "\n",
        "# Initializing a sequential model on which different layers can be stacked\n",
        "model = Sequential() \n",
        "\n",
        "# The input layer - input_dim (Input dimension) should be equal to the number of features\n",
        "model.add(Dense(32, activation='sigmoid', input_dim=4)) \n",
        "\n",
        "# Adding 2 hidden layers with 128 and 32 fully connected perceptrons.\n",
        "model.add(Dense(128, activation='sigmoid')) # \n",
        "model.add(Dense(32, activation='sigmoid'))\n",
        "\n",
        "# The output should be a single outcome so one Dense layer is defined with a single unit.\n",
        "model.add(Dense(1))"
      ],
      "metadata": {
        "id": "EVnDFgOhQJ-O"
      },
      "execution_count": null,
      "outputs": []
    },
    {
      "cell_type": "code",
      "source": [],
      "metadata": {
        "id": "ICvx2wInchFe"
      },
      "execution_count": null,
      "outputs": []
    },
    {
      "cell_type": "code",
      "source": [
        " # Optimises the learning by updating the weights with Stochastic Gradient Descent method based on the loss function provided\n",
        "model.compile(optimizer='sgd', loss='mse', metrics=['accuracy']) \n",
        "\n",
        "# Train the model by fitting the train data to the model we compiled in the above line. This is stored in a variable because the output of 'fit' function is a history class which consists of 4 key, value pairs for accuracy, val_accuracy, loss, val_loss\n",
        "history = model.fit(X_train, y_train, epochs=30, batch_size=4096)\n"
      ],
      "metadata": {
        "colab": {
          "base_uri": "https://localhost:8080/"
        },
        "id": "yJaqarY_QWJN",
        "outputId": "7d3e65af-c8e9-4446-84c5-9fd41f08f5b9"
      },
      "execution_count": null,
      "outputs": [
        {
          "output_type": "stream",
          "name": "stdout",
          "text": [
            "Epoch 1/30\n",
            "53/53 [==============================] - 2s 14ms/step - loss: 0.7238 - accuracy: 0.0000e+00\n",
            "Epoch 2/30\n",
            "53/53 [==============================] - 1s 13ms/step - loss: 0.4358 - accuracy: 0.0000e+00\n",
            "Epoch 3/30\n",
            "53/53 [==============================] - 1s 12ms/step - loss: 0.4356 - accuracy: 0.0000e+00\n",
            "Epoch 4/30\n",
            "53/53 [==============================] - 1s 12ms/step - loss: 0.4354 - accuracy: 0.0000e+00\n",
            "Epoch 5/30\n",
            "53/53 [==============================] - 1s 12ms/step - loss: 0.4351 - accuracy: 0.0000e+00\n",
            "Epoch 6/30\n",
            "53/53 [==============================] - 1s 12ms/step - loss: 0.4349 - accuracy: 0.0000e+00\n",
            "Epoch 7/30\n",
            "53/53 [==============================] - 1s 12ms/step - loss: 0.4347 - accuracy: 0.0000e+00\n",
            "Epoch 8/30\n",
            "53/53 [==============================] - 1s 12ms/step - loss: 0.4345 - accuracy: 0.0000e+00\n",
            "Epoch 9/30\n",
            "53/53 [==============================] - 1s 12ms/step - loss: 0.4343 - accuracy: 0.0000e+00\n",
            "Epoch 10/30\n",
            "53/53 [==============================] - 1s 12ms/step - loss: 0.4341 - accuracy: 0.0000e+00\n",
            "Epoch 11/30\n",
            "53/53 [==============================] - 1s 12ms/step - loss: 0.4338 - accuracy: 0.0000e+00\n",
            "Epoch 12/30\n",
            "53/53 [==============================] - 1s 12ms/step - loss: 0.4336 - accuracy: 0.0000e+00\n",
            "Epoch 13/30\n",
            "53/53 [==============================] - 1s 12ms/step - loss: 0.4334 - accuracy: 0.0000e+00\n",
            "Epoch 14/30\n",
            "53/53 [==============================] - 1s 12ms/step - loss: 0.4332 - accuracy: 0.0000e+00\n",
            "Epoch 15/30\n",
            "53/53 [==============================] - 1s 12ms/step - loss: 0.4330 - accuracy: 0.0000e+00\n",
            "Epoch 16/30\n",
            "53/53 [==============================] - 1s 14ms/step - loss: 0.4327 - accuracy: 0.0000e+00\n",
            "Epoch 17/30\n",
            "53/53 [==============================] - 1s 21ms/step - loss: 0.4325 - accuracy: 0.0000e+00\n",
            "Epoch 18/30\n",
            "53/53 [==============================] - 1s 21ms/step - loss: 0.4323 - accuracy: 0.0000e+00\n",
            "Epoch 19/30\n",
            "53/53 [==============================] - 1s 20ms/step - loss: 0.4320 - accuracy: 0.0000e+00\n",
            "Epoch 20/30\n",
            "53/53 [==============================] - 1s 20ms/step - loss: 0.4318 - accuracy: 0.0000e+00\n",
            "Epoch 21/30\n",
            "53/53 [==============================] - 1s 14ms/step - loss: 0.4316 - accuracy: 0.0000e+00\n",
            "Epoch 22/30\n",
            "53/53 [==============================] - 1s 12ms/step - loss: 0.4314 - accuracy: 0.0000e+00\n",
            "Epoch 23/30\n",
            "53/53 [==============================] - 1s 12ms/step - loss: 0.4311 - accuracy: 0.0000e+00\n",
            "Epoch 24/30\n",
            "53/53 [==============================] - 1s 12ms/step - loss: 0.4309 - accuracy: 0.0000e+00\n",
            "Epoch 25/30\n",
            "53/53 [==============================] - 1s 12ms/step - loss: 0.4307 - accuracy: 0.0000e+00\n",
            "Epoch 26/30\n",
            "53/53 [==============================] - 1s 12ms/step - loss: 0.4304 - accuracy: 0.0000e+00\n",
            "Epoch 27/30\n",
            "53/53 [==============================] - 1s 12ms/step - loss: 0.4302 - accuracy: 0.0000e+00\n",
            "Epoch 28/30\n",
            "53/53 [==============================] - 1s 13ms/step - loss: 0.4299 - accuracy: 0.0000e+00\n",
            "Epoch 29/30\n",
            "53/53 [==============================] - 1s 20ms/step - loss: 0.4297 - accuracy: 0.0000e+00\n",
            "Epoch 30/30\n",
            "53/53 [==============================] - 1s 20ms/step - loss: 0.4294 - accuracy: 0.0000e+00\n"
          ]
        }
      ]
    },
    {
      "cell_type": "code",
      "source": [],
      "metadata": {
        "id": "7R4kZj8FTfTs"
      },
      "execution_count": null,
      "outputs": []
    },
    {
      "cell_type": "code",
      "source": [],
      "metadata": {
        "id": "Id8c48uHckFX"
      },
      "execution_count": null,
      "outputs": []
    },
    {
      "cell_type": "markdown",
      "source": [
        "## Apply different transformations on the available features "
      ],
      "metadata": {
        "id": "7M2FnxfaOlCf"
      }
    },
    {
      "cell_type": "code",
      "source": [
        "\n",
        "final_features = []\n",
        "for feat in features:\n",
        "  print(feat)\n",
        "  final_features.append(feat)\n",
        "  base01['natural_log_' + feat] = np.log(base01[feat])\n",
        "  final_features.append('natural_log_' + feat)\n",
        "  \n",
        "  base01['square_'+  feat ]=base01[feat]**2\n",
        "  final_features.append('square_' + feat)\n",
        "\n",
        "  base01['squareroot_'+  feat ]=np.sqrt((base01[feat]))\n",
        "  final_features.append('squareroot_' + feat)\n",
        "\n",
        "  base01['exp_'+  feat ]=np.exp((base01[feat]))\n",
        "  final_features.append('exp_' + feat)\n",
        "\n",
        "  base01['neg_exp_value_plus1'] = 1 +  np.exp( - base01[feat])\n",
        "  base01['identity'] = 1\n",
        "  base01['sigmoid_'+ feat] = base01.identity.div(base01.neg_exp_value_plus1)\n",
        "\n",
        "\n",
        "  final_features.append('sigmoid_'+ feat)\n",
        "\n",
        "  base01['inv_' + feat ]= base01.identity.div(base01[feat])\n",
        "  final_features.append('inv_'+ feat)\n",
        "\n",
        "\n"
      ],
      "metadata": {
        "colab": {
          "base_uri": "https://localhost:8080/"
        },
        "id": "tvoFjnNcalpN",
        "outputId": "ca7cf9e0-e54a-4cb1-eb8b-1a25704f134b"
      },
      "execution_count": null,
      "outputs": [
        {
          "output_type": "stream",
          "name": "stdout",
          "text": [
            "Vintage\n",
            "Floor\n",
            "Area\n",
            "percentage_sold\n"
          ]
        }
      ]
    },
    {
      "cell_type": "code",
      "source": [
        "features_df_trans = base01[final_features] #subsetting the dataset with transformed features only\n",
        "labels = base01['Price'] #Designating the target variable\n",
        "# Train test split\n",
        "X_train, X_test, y_train, y_test =  sk.train_test_split(features_df_trans,labels,test_size=0.33, random_state = 42)"
      ],
      "metadata": {
        "id": "7ZV7mA-Pal0M"
      },
      "execution_count": null,
      "outputs": []
    },
    {
      "cell_type": "code",
      "source": [
        "units = 32\n",
        "\n",
        "# Initializing a sequential model on which different layers can be stacked\n",
        "model = Sequential()\n",
        "\n",
        "# The input layer - input_dim (Input dimension) should be equal to the number of features\n",
        "model.add(Dense(32, input_dim= len(final_features))) \n",
        "\n",
        "# Adding 2 hidden layers with 128 and 32 fully connected perceptrons.\n",
        "model.add(Dense(128)) \n",
        "\n",
        "# The output should be a single outcome so one Dense layer is defined with a single unit.\n",
        "model.add(Dense(1))"
      ],
      "metadata": {
        "id": "8V2NhmcRmKqj"
      },
      "execution_count": null,
      "outputs": []
    },
    {
      "cell_type": "code",
      "source": [
        " # Optimises the learning by updating the weights with Stochastic Gradient Descent method based on the loss function provided\n",
        "model.compile(optimizer='adam', loss='mse', metrics=['accuracy'])\n",
        "\n",
        "# Train the model by fitting the train data to the model we compiled in the above line. This is stored in a variable because the output of 'fit' function is a history class which consists of 4 key, value pairs for accuracy, val_accuracy, loss, val_loss\n",
        "history1 = model.fit(X_train, y_train, epochs=30, batch_size=128)\n",
        "#_, train_acc = model.evaluate(X_train, y_train, verbose=1)\n",
        "#_, test_acc = model.evaluate(X_test, y_test, verbose=1)\n",
        "#print('Train: %.3f, Test: %.3f' % (train_acc, test_acc))"
      ],
      "metadata": {
        "colab": {
          "base_uri": "https://localhost:8080/"
        },
        "id": "JSB1cpCymSMV",
        "outputId": "8278193e-9137-4604-8875-cb6f4048064d"
      },
      "execution_count": null,
      "outputs": [
        {
          "output_type": "stream",
          "name": "stdout",
          "text": [
            "Epoch 1/30\n",
            "1694/1694 [==============================] - 4s 2ms/step - loss: 0.1718 - accuracy: 0.0000e+00\n",
            "Epoch 2/30\n",
            "1694/1694 [==============================] - 4s 2ms/step - loss: 0.0185 - accuracy: 0.0000e+00\n",
            "Epoch 3/30\n",
            "1694/1694 [==============================] - 5s 3ms/step - loss: 0.0095 - accuracy: 0.0000e+00\n",
            "Epoch 4/30\n",
            "1694/1694 [==============================] - 3s 2ms/step - loss: 0.0077 - accuracy: 0.0000e+00\n",
            "Epoch 5/30\n",
            "1694/1694 [==============================] - 3s 2ms/step - loss: 0.0039 - accuracy: 0.0000e+00\n",
            "Epoch 6/30\n",
            "1694/1694 [==============================] - 6s 3ms/step - loss: 0.0095 - accuracy: 0.0000e+00\n",
            "Epoch 7/30\n",
            "1694/1694 [==============================] - 4s 2ms/step - loss: 4.2526e-04 - accuracy: 0.0000e+00\n",
            "Epoch 8/30\n",
            "1694/1694 [==============================] - 4s 2ms/step - loss: 0.0021 - accuracy: 0.0000e+00\n",
            "Epoch 9/30\n",
            "1694/1694 [==============================] - 4s 2ms/step - loss: 0.0013 - accuracy: 0.0000e+00\n",
            "Epoch 10/30\n",
            "1694/1694 [==============================] - 5s 3ms/step - loss: 0.0019 - accuracy: 0.0000e+00\n",
            "Epoch 11/30\n",
            "1694/1694 [==============================] - 3s 2ms/step - loss: 1.3681e-04 - accuracy: 0.0000e+00\n",
            "Epoch 12/30\n",
            "1694/1694 [==============================] - 3s 2ms/step - loss: 5.1101e-04 - accuracy: 0.0000e+00\n",
            "Epoch 13/30\n",
            "1694/1694 [==============================] - 4s 2ms/step - loss: 4.8873e-04 - accuracy: 0.0000e+00\n",
            "Epoch 14/30\n",
            "1694/1694 [==============================] - 5s 3ms/step - loss: 2.0728e-04 - accuracy: 0.0000e+00\n",
            "Epoch 15/30\n",
            "1694/1694 [==============================] - 3s 2ms/step - loss: 3.1549e-04 - accuracy: 0.0000e+00\n",
            "Epoch 16/30\n",
            "1694/1694 [==============================] - 3s 2ms/step - loss: 2.0978e-04 - accuracy: 0.0000e+00\n",
            "Epoch 17/30\n",
            "1694/1694 [==============================] - 4s 3ms/step - loss: 2.3607e-04 - accuracy: 0.0000e+00\n",
            "Epoch 18/30\n",
            "1694/1694 [==============================] - 4s 2ms/step - loss: 1.4988e-04 - accuracy: 0.0000e+00\n",
            "Epoch 19/30\n",
            "1694/1694 [==============================] - 3s 2ms/step - loss: 9.4392e-05 - accuracy: 0.0000e+00\n",
            "Epoch 20/30\n",
            "1694/1694 [==============================] - 3s 2ms/step - loss: 1.2349e-04 - accuracy: 0.0000e+00\n",
            "Epoch 21/30\n",
            "1694/1694 [==============================] - 4s 3ms/step - loss: 8.3979e-05 - accuracy: 0.0000e+00\n",
            "Epoch 22/30\n",
            "1694/1694 [==============================] - 4s 2ms/step - loss: 1.0715e-04 - accuracy: 0.0000e+00\n",
            "Epoch 23/30\n",
            "1694/1694 [==============================] - 3s 2ms/step - loss: 9.8809e-05 - accuracy: 0.0000e+00\n",
            "Epoch 24/30\n",
            "1694/1694 [==============================] - 3s 2ms/step - loss: 9.4778e-05 - accuracy: 0.0000e+00\n",
            "Epoch 25/30\n",
            "1694/1694 [==============================] - 5s 3ms/step - loss: 1.0729e-04 - accuracy: 0.0000e+00\n",
            "Epoch 26/30\n",
            "1694/1694 [==============================] - 4s 2ms/step - loss: 5.7631e-05 - accuracy: 0.0000e+00\n",
            "Epoch 27/30\n",
            "1694/1694 [==============================] - 3s 2ms/step - loss: 8.4099e-05 - accuracy: 0.0000e+00\n",
            "Epoch 28/30\n",
            "1694/1694 [==============================] - 3s 2ms/step - loss: 9.5052e-05 - accuracy: 0.0000e+00\n",
            "Epoch 29/30\n",
            "1694/1694 [==============================] - 5s 3ms/step - loss: 3.9238e-05 - accuracy: 0.0000e+00\n",
            "Epoch 30/30\n",
            "1694/1694 [==============================] - 3s 2ms/step - loss: 1.0352e-04 - accuracy: 0.0000e+00\n"
          ]
        }
      ]
    },
    {
      "cell_type": "code",
      "source": [],
      "metadata": {
        "id": "8rDx0ER0maXI"
      },
      "execution_count": null,
      "outputs": []
    }
  ]
}